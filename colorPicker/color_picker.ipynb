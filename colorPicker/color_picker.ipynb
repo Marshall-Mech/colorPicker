{
 "cells": [
  {
   "cell_type": "markdown",
   "metadata": {},
   "source": [
    "# Importing the packages"
   ]
  },
  {
   "cell_type": "code",
   "execution_count": 1,
   "metadata": {},
   "outputs": [
    {
     "name": "stdout",
     "output_type": "stream",
     "text": [
      "4.2.0\n"
     ]
    }
   ],
   "source": [
    "import cv2\n",
    "import numpy as np\n",
    "import matplotlib.pyplot as plt\n",
    "\n",
    "print(cv2.__version__)"
   ]
  },
  {
   "cell_type": "markdown",
   "metadata": {},
   "source": [
    "# Selecting the camera"
   ]
  },
  {
   "cell_type": "code",
   "execution_count": 2,
   "metadata": {},
   "outputs": [],
   "source": [
    "#url = 'http://192.168.0.106:1111/video'\n",
    "url = 0"
   ]
  },
  {
   "cell_type": "markdown",
   "metadata": {},
   "source": [
    "# Running the selection program"
   ]
  },
  {
   "cell_type": "code",
   "execution_count": 4,
   "metadata": {},
   "outputs": [
    {
     "name": "stdout",
     "output_type": "stream",
     "text": [
      "The final values of the image chosen are :-\n",
      "\n",
      "Hue Max:7\n",
      "Hue Min:0\n",
      "Saturation Max:207\n",
      "Saturation Min:116\n",
      "Value Max:255\n",
      "Value Min:178\n"
     ]
    }
   ],
   "source": [
    "cap = cv2.VideoCapture(url)\n",
    "\n",
    "# Trackbars Window\n",
    "def empty(x):\n",
    "    pass\n",
    "\n",
    "cv2.namedWindow(\"Trackbars\")\n",
    "cv2.resizeWindow(\"Trackbars\",480,240)\n",
    "cv2.createTrackbar(\"Hue Min\", \"Trackbars\",0,179,empty)\n",
    "cv2.createTrackbar(\"Hue Max\", \"Trackbars\",179,179,empty)\n",
    "cv2.createTrackbar(\"Sat Min\", \"Trackbars\",0,255,empty)\n",
    "cv2.createTrackbar(\"Sat Max\", \"Trackbars\",255,255,empty)\n",
    "cv2.createTrackbar(\"Val Min\", \"Trackbars\",0,255,empty)\n",
    "cv2.createTrackbar(\"Val Max\", \"Trackbars\",255,255,empty)\n",
    "\n",
    "while True:\n",
    "    #img = cv2.imread('image.jpg')\n",
    "    ret, img = cap.read()\n",
    "    hsv = cv2.cvtColor(img,cv2.COLOR_BGR2HSV)\n",
    "    \n",
    "    h_min = cv2.getTrackbarPos(\"Hue Min\",\"Trackbars\")\n",
    "    h_max = cv2.getTrackbarPos(\"Hue Max\",\"Trackbars\")\n",
    "    s_min = cv2.getTrackbarPos(\"Sat Min\",\"Trackbars\")\n",
    "    s_max = cv2.getTrackbarPos(\"Sat Max\",\"Trackbars\")\n",
    "    v_min = cv2.getTrackbarPos(\"Val Min\",\"Trackbars\")\n",
    "    v_max = cv2.getTrackbarPos(\"Val Max\",\"Trackbars\")\n",
    "        \n",
    "    lower = np.array([h_min,s_min,v_min])\n",
    "    upper = np.array([h_max,s_max,v_max])\n",
    "    mask = cv2.inRange(hsv,lower,upper)\n",
    "    final = cv2.bitwise_and(img,img,mask=mask)\n",
    "    \n",
    "    scale = 2\n",
    "    \n",
    "    cv2.imshow('True images',img[::scale,::scale])\n",
    "    cv2.imshow('HSV format of the image',hsv[::scale,::scale])\n",
    "    cv2.imshow('Mask',mask[::scale,::scale])\n",
    "    #cv2.imshow('Seperated color',final[::scale,::scale])\n",
    "    cv2.imshow('Seperated color',final)\n",
    "    \n",
    "    if cv2.waitKey(1) & 0xFF == ord('q'):\n",
    "        if url == 0:\n",
    "            cap.release()\n",
    "        cv2.destroyAllWindows()\n",
    "        break\n",
    "\n",
    "print(f'The final values of the image chosen are :-\\n\\nHue Max:{h_max}\\nHue Min:{h_min}\\nSaturation Max:{s_max}\\nSaturation Min:{s_min}\\nValue Max:{v_max}\\nValue Min:{v_min}' )"
   ]
  },
  {
   "cell_type": "markdown",
   "metadata": {},
   "source": [
    "# Releasing the camera and closing windows in case of error"
   ]
  },
  {
   "cell_type": "code",
   "execution_count": 21,
   "metadata": {},
   "outputs": [],
   "source": [
    "cap.release()\n",
    "cv2.destroyAllWindows()"
   ]
  },
  {
   "cell_type": "code",
   "execution_count": null,
   "metadata": {},
   "outputs": [],
   "source": []
  }
 ],
 "metadata": {
  "kernelspec": {
   "display_name": "Python 3",
   "language": "python",
   "name": "python3"
  },
  "varInspector": {
   "cols": {
    "lenName": 16,
    "lenType": 16,
    "lenVar": 40
   },
   "kernels_config": {
    "python": {
     "delete_cmd_postfix": "",
     "delete_cmd_prefix": "del ",
     "library": "var_list.py",
     "varRefreshCmd": "print(var_dic_list())"
    },
    "r": {
     "delete_cmd_postfix": ") ",
     "delete_cmd_prefix": "rm(",
     "library": "var_list.r",
     "varRefreshCmd": "cat(var_dic_list()) "
    }
   },
   "types_to_exclude": [
    "module",
    "function",
    "builtin_function_or_method",
    "instance",
    "_Feature"
   ],
   "window_display": false
  }
 },
 "nbformat": 4,
 "nbformat_minor": 4
}
